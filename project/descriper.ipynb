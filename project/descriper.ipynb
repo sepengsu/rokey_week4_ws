{
 "cells": [
  {
   "cell_type": "code",
   "execution_count": 1,
   "metadata": {},
   "outputs": [],
   "source": [
    "import pandas as pd\n",
    "import numpy as np\n",
    "import matplotlib.pyplot as plt\n",
    "from sklearn.metrics import confusion_matrix, f1_score\n",
    "class Descriper:\n",
    "    def __init__(self,df:pd.DataFrame):\n",
    "        self.df = df\n",
    "    def analy(self):\n",
    "        labels = self.df['label']\n",
    "        predicts = self.df['predict']\n",
    "        confusion = confusion_matrix(labels, predicts)\n",
    "        return confusion, f1_score(labels, predicts, average='macro')\n",
    "\n"
   ]
  },
  {
   "cell_type": "code",
   "execution_count": 2,
   "metadata": {},
   "outputs": [
    {
     "name": "stderr",
     "output_type": "stream",
     "text": [
      "C:\\Users\\na062\\AppData\\Local\\Temp\\ipykernel_14204\\1303173724.py:3: FutureWarning: Downcasting behavior in `replace` is deprecated and will be removed in a future version. To retain the old behavior, explicitly call `result.infer_objects(copy=False)`. To opt-in to the future behavior, set `pd.set_option('future.no_silent_downcasting', True)`\n",
      "  df_new = df.replace({'label': {'normal': 0, 'abnormal': 1}, 'predict': {'normal': 0, 'abnormal': 1}})\n"
     ]
    }
   ],
   "source": [
    "df = pd.read_csv(r'C:\\Users\\na062\\Desktop\\week4\\result.csv')\n",
    "df.columns = ['label', 'predict']\n",
    "df_new = df.replace({'label': {'normal': 0, 'abnormal': 1}, 'predict': {'normal': 0, 'abnormal': 1}})\n",
    "descriper = Descriper(df_new)\n",
    "confusion, f1 = descriper.analy()"
   ]
  },
  {
   "cell_type": "code",
   "execution_count": 3,
   "metadata": {},
   "outputs": [
    {
     "name": "stderr",
     "output_type": "stream",
     "text": [
      "C:\\Users\\na062\\AppData\\Local\\Temp\\ipykernel_14204\\595976498.py:25: UserWarning: set_ticklabels() should only be used with a fixed number of ticks, i.e. after set_ticks() or using a FixedLocator.\n",
      "  ax.set_xticklabels([''] + predicted_labels)\n",
      "C:\\Users\\na062\\AppData\\Local\\Temp\\ipykernel_14204\\595976498.py:26: UserWarning: set_ticklabels() should only be used with a fixed number of ticks, i.e. after set_ticks() or using a FixedLocator.\n",
      "  ax.set_yticklabels([''] + labels)\n"
     ]
    },
    {
     "data": {
      "image/png": "[encoded data removed]",
      "text/plain": [
       "<Figure size 800x600 with 2 Axes>"
      ]
     },
     "metadata": {},
     "output_type": "display_data"
    }
   ],
   "source": [
    "import seaborn as sns\n",
    "# Set the tick labels for the heatmap\n",
    "plt.rcParams['font.family'] = 'Malgun Gothic'\n",
    "import matplotlib.pyplot as plt\n",
    "import numpy as np\n",
    "\n",
    "def plot_confusion_matrix(matrix: np.ndarray = None) -> None:\n",
    "    # 행렬 관련 정보\n",
    "    # 정상은 0, 불량은 1\n",
    "    labels = [\"정상 (N)\", \"불량 (P)\"]\n",
    "    predicted_labels = [\"정상 (PP)\", \"불량 (PN)\"]\n",
    "    total = matrix.sum()\n",
    "    matrix = matrix / total\n",
    "\n",
    "    fig, ax = plt.subplots(figsize=(8, 6))\n",
    "    cax = ax.matshow(matrix, cmap=plt.cm.Blues)\n",
    "    plt.colorbar(cax)\n",
    "\n",
    "    # 라벨 추가\n",
    "    plt.xlabel(\"\")\n",
    "    ax.xaxis.set_label_position('top')\n",
    "    ax.xaxis.tick_top()\n",
    "    plt.xlabel(\"예측\",fontsize=16)\n",
    "    plt.ylabel(\"실제\",fontsize=16)\n",
    "    ax.set_xticklabels([''] + predicted_labels)\n",
    "    ax.set_yticklabels([''] + labels)\n",
    "    # 텍스트로 값 표시\n",
    "    for i in range(matrix.shape[0]):\n",
    "        for j in range(matrix.shape[1]):\n",
    "            text = f\"{matrix[i, j]*100:.1f}% \"+f\"({'TP' if i == 0 and j == 0 else 'FN' if i == 0 and j == 1 else 'FP' if i == 1 and j == 0 else 'TN'})\"\n",
    "            \n",
    "            ax.text(j, i, text, va='center', ha='center', fontsize=12, color=\"black\")\n",
    "\n",
    "    plt.show()\n",
    "\n",
    "# 실행\n",
    "plot_confusion_matrix(confusion)\n"
   ]
  },
  {
   "cell_type": "code",
   "execution_count": 4,
   "metadata": {},
   "outputs": [
    {
     "data": {
      "text/html": [
       "<div>\n",
       "<style scoped>\n",
       "    .dataframe tbody tr th:only-of-type {\n",
       "        vertical-align: middle;\n",
       "    }\n",
       "\n",
       "    .dataframe tbody tr th {\n",
       "        vertical-align: top;\n",
       "    }\n",
       "\n",
       "    .dataframe thead th {\n",
       "        text-align: right;\n",
       "    }\n",
       "</style>\n",
       "<table border=\"1\" class=\"dataframe\">\n",
       "  <thead>\n",
       "    <tr style=\"text-align: right;\">\n",
       "      <th></th>\n",
       "      <th>Metric</th>\n",
       "      <th>Value</th>\n",
       "    </tr>\n",
       "  </thead>\n",
       "  <tbody>\n",
       "    <tr>\n",
       "      <th>0</th>\n",
       "      <td>True Positive (TP)</td>\n",
       "      <td>35.000000</td>\n",
       "    </tr>\n",
       "    <tr>\n",
       "      <th>1</th>\n",
       "      <td>False Positive (FP)</td>\n",
       "      <td>35.000000</td>\n",
       "    </tr>\n",
       "    <tr>\n",
       "      <th>2</th>\n",
       "      <td>False Negative (FN)</td>\n",
       "      <td>4.000000</td>\n",
       "    </tr>\n",
       "    <tr>\n",
       "      <th>3</th>\n",
       "      <td>True Negative (TN)</td>\n",
       "      <td>26.000000</td>\n",
       "    </tr>\n",
       "    <tr>\n",
       "      <th>4</th>\n",
       "      <td>Accuracy</td>\n",
       "      <td>0.610000</td>\n",
       "    </tr>\n",
       "    <tr>\n",
       "      <th>5</th>\n",
       "      <td>Precision</td>\n",
       "      <td>0.426230</td>\n",
       "    </tr>\n",
       "    <tr>\n",
       "      <th>6</th>\n",
       "      <td>Recall</td>\n",
       "      <td>0.866667</td>\n",
       "    </tr>\n",
       "    <tr>\n",
       "      <th>7</th>\n",
       "      <td>Specificity</td>\n",
       "      <td>0.426230</td>\n",
       "    </tr>\n",
       "    <tr>\n",
       "      <th>8</th>\n",
       "      <td>F1 Score</td>\n",
       "      <td>0.571429</td>\n",
       "    </tr>\n",
       "    <tr>\n",
       "      <th>9</th>\n",
       "      <td>False Positive Rate (FPR)</td>\n",
       "      <td>0.573770</td>\n",
       "    </tr>\n",
       "    <tr>\n",
       "      <th>10</th>\n",
       "      <td>False Negative Rate (FNR)</td>\n",
       "      <td>0.102564</td>\n",
       "    </tr>\n",
       "  </tbody>\n",
       "</table>\n",
       "</div>"
      ],
      "text/plain": [
       "                       Metric      Value\n",
       "0          True Positive (TP)  35.000000\n",
       "1         False Positive (FP)  35.000000\n",
       "2         False Negative (FN)   4.000000\n",
       "3          True Negative (TN)  26.000000\n",
       "4                    Accuracy   0.610000\n",
       "5                   Precision   0.426230\n",
       "6                      Recall   0.866667\n",
       "7                 Specificity   0.426230\n",
       "8                    F1 Score   0.571429\n",
       "9   False Positive Rate (FPR)   0.573770\n",
       "10  False Negative Rate (FNR)   0.102564"
      ]
     },
     "execution_count": 4,
     "metadata": {},
     "output_type": "execute_result"
    }
   ],
   "source": [
    "from sklearn.metrics import confusion_matrix, accuracy_score, precision_score, recall_score, f1_score, roc_auc_score\n",
    "\n",
    "def create_confusion_metrics_sklearn(label, predict):\n",
    "    # Confusion Matrix\n",
    "    cm = confusion_matrix(label, predict)\n",
    "    tp, fp, fn, tn = cm.ravel()\n",
    "\n",
    "    # Metrics Calculation\n",
    "    accuracy = accuracy_score(label, predict)\n",
    "    precision = precision_score(label, predict, zero_division=0)\n",
    "    recall = recall_score(label, predict, zero_division=0)\n",
    "    specificity = tn / (tn + fp) if (tn + fp) > 0 else 0\n",
    "    f1 = f1_score(label, predict, zero_division=0)\n",
    "    fpr = fp / (fp + tn) if (fp + tn) > 0 else 0\n",
    "    fnr = fn / (fn + tp) if (fn + tp) > 0 else 0\n",
    "\n",
    "    # Create DataFrame\n",
    "    confusion_data = pd.DataFrame({\n",
    "        \"Metric\": [\n",
    "            \"True Positive (TP)\", \"False Positive (FP)\", \n",
    "            \"False Negative (FN)\", \"True Negative (TN)\", \n",
    "            \"Accuracy\", \"Precision\", \"Recall\", \n",
    "            \"Specificity\", \"F1 Score\", \n",
    "            \"False Positive Rate (FPR)\", \"False Negative Rate (FNR)\"\n",
    "        ],\n",
    "        \"Value\": [\n",
    "            tp, fp, fn, tn, \n",
    "            accuracy, precision, recall, \n",
    "            specificity, f1, \n",
    "            fpr, fnr\n",
    "        ]\n",
    "    })\n",
    "\n",
    "    return confusion_data\n",
    "\n",
    "de = create_confusion_metrics_sklearn(df_new['label'], df_new['predict'])\n",
    "de.to_csv(r'C:\\Users\\na062\\Desktop\\week4\\결과.xlsx', index=False)\n",
    "de"
   ]
  }
 ],
 "metadata": {
  "kernelspec": {
   "display_name": "venv",
   "language": "python",
   "name": "python3"
  },
  "language_info": {
   "codemirror_mode": {
    "name": "ipython",
    "version": 3
   },
   "file_extension": ".py",
   "mimetype": "text/x-python",
   "name": "python",
   "nbconvert_exporter": "python",
   "pygments_lexer": "ipython3",
   "version": "3.10.11"
  }
 },
 "nbformat": 4,
 "nbformat_minor": 2
}
